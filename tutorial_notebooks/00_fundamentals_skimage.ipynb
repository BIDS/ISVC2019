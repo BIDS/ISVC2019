{
 "cells": [
  {
   "cell_type": "markdown",
   "metadata": {},
   "source": [
    "# Analysis and visualization of 3D data in Python\n",
    "\n",
    "Daniela Ushizima, Alexandre de Siqueira, Stéfan van der Walt\n",
    "\n",
    "_BIDS @ University of California, Berkeley_\n",
    "\n",
    "_Lawrence Berkeley National Laboratory - LBNL_\n",
    "\n",
    "* Support material for the tutorial _Analysis and visualization of 3D data in Python_.\n",
    "\n",
    "This tutorial will introduce how to analyze three dimensional stacked and volumetric\n",
    "images in Python, mainly using scikit-image. Here we will learn how to:\n",
    "  * pre-process data using filtering, binarization and segmentation techniques.\n",
    "  * inspect, count and measure attributes of objects and regions of interest in the data.\n",
    "  * visualize 3D data.\n",
    "\n",
    "Please prepare for the tutorial by [installing the pre-requisite\n",
    "software](preparation.md) beforehand.\n",
    "\n",
    "For more info:\n",
    "  * [[ISVC 2019]](https://www.isvc.net/)\n",
    "  * [[scikit-image]](https://scikit-image.org/)\n",
    "\n",
    "\n",
    "## What is scikit-image?\n",
    "\n",
    "scikit-image is a collection of image processing algorithms which aims to integrate well with for the SciPy ecosystem.\n",
    "\n",
    "It is well documented, and provides well-tested code to quickly build sophisticated image processing pipelines."
   ]
  },
  {
   "cell_type": "markdown",
   "metadata": {},
   "source": [
    "## Preparing for the tutorial\n",
    "\n",
    "To participate, you'll need to git clone (or download the .zip from GitHub): https://github.com/BIDS/ISVC2019.git\n",
    "\n",
    "You can do that using the line below:\n",
    "\n",
    "`git clone https://github.com/BIDS/ISVC2019.git isvc2019_skimage`\n",
    "\n",
    "Please execute it on a terminal. If you have already cloned the material, on the tutorial folder, please type:\n",
    "\n",
    "`git pull`\n",
    "\n",
    "Then, reload the notebook to ensure that you have the latest updates.\n",
    "\n",
    "Lets use a magic command to open figures within this notebook:"
   ]
  },
  {
   "cell_type": "code",
   "execution_count": null,
   "metadata": {},
   "outputs": [],
   "source": [
    "%matplotlib inline"
   ]
  },
  {
   "cell_type": "markdown",
   "metadata": {},
   "source": [
    "You can check the other magics available, and what they do, at the IPython documentation [[1]](https://ipython.readthedocs.io/en/stable/interactive/magics.html).\n",
    "\n",
    "Before we can start using `scikit-image` to process our images and data, we need to understand how it represents images. For this, we will use NumPy."
   ]
  },
  {
   "cell_type": "markdown",
   "metadata": {},
   "source": [
    "## NumPy at a glance\n",
    "\n",
    "NumPy is the fundamental package for scientific computing in Python. It provides [[2]](https://docs.scipy.org/doc/numpy/user/whatisnumpy.html):\n",
    "\n",
    "* a multidimensional array object;\n",
    "* various objects derived from it, such as masked arrays and matrices;\n",
    "* an assortment of routines for fast operations on arrays, including mathematical, logical, shape manipulation, sorting, selecting, I/O, discrete Fourier transforms, basic linear algebra, basic statistical operations, random simulation and much more.\n",
    "\n",
    "Throughout several examples, we will check some NumPy capabilities. We start importing the package:"
   ]
  },
  {
   "cell_type": "code",
   "execution_count": null,
   "metadata": {},
   "outputs": [],
   "source": [
    "import numpy as np"
   ]
  },
  {
   "cell_type": "markdown",
   "metadata": {},
   "source": [
    "<div class=\"alert alert-info\">\n",
    "\n",
    "__Example 1:__ What version of NumPy do you have installed?"
   ]
  },
  {
   "cell_type": "code",
   "execution_count": null,
   "metadata": {},
   "outputs": [],
   "source": [
    "np.__version__"
   ]
  },
  {
   "cell_type": "markdown",
   "metadata": {},
   "source": [
    "<div class=\"alert alert-info\">\n",
    "\n",
    "__Example 2:__ How to build an array of zeros, containing 300 rows and 500 columns?  "
   ]
  },
  {
   "cell_type": "code",
   "execution_count": null,
   "metadata": {},
   "outputs": [],
   "source": [
    "arr_zeros = np.zeros((300, 500))"
   ]
  },
  {
   "cell_type": "markdown",
   "metadata": {},
   "source": [
    "<div class=\"alert alert-info\">\n",
    "\n",
    "__Example 3:__ How to generate an array with integer numbers, from 0 to 9?"
   ]
  },
  {
   "cell_type": "code",
   "execution_count": null,
   "metadata": {},
   "outputs": [],
   "source": [
    "arr_integers = np.arange(10)\n",
    "print(arr_integers)"
   ]
  },
  {
   "cell_type": "markdown",
   "metadata": {},
   "source": [
    "<div class=\"alert alert-info\">\n",
    "\n",
    "__Example 4:__ How do we obtain the square of this array?"
   ]
  },
  {
   "cell_type": "code",
   "execution_count": null,
   "metadata": {},
   "outputs": [],
   "source": [
    "arr_square = arr_integers ** 2\n",
    "print(arr_square)"
   ]
  },
  {
   "cell_type": "markdown",
   "metadata": {},
   "source": [
    "<div class=\"alert alert-info\">\n",
    "\n",
    "__Example 5:__ What is the data within this array? What about the array `[0.5, 1, 1.5]`?"
   ]
  },
  {
   "cell_type": "code",
   "execution_count": null,
   "metadata": {},
   "outputs": [],
   "source": [
    "print(arr_square.dtype)\n",
    "arr_halves = np.array([0.5, 1, 1.5])\n",
    "print(arr_halves.dtype)"
   ]
  },
  {
   "cell_type": "markdown",
   "metadata": {},
   "source": [
    "<div class=\"alert alert-info\">\n",
    "\n",
    "__Example 6:__ What is the shape of the following array: `[[1, 2, 3], [4, 5, 6]]`?"
   ]
  },
  {
   "cell_type": "code",
   "execution_count": null,
   "metadata": {},
   "outputs": [],
   "source": [
    "array = np.array([[1, 2, 3], [4, 5, 6]])\n",
    "print(array.shape)"
   ]
  },
  {
   "cell_type": "markdown",
   "metadata": {},
   "source": [
    "<div class=\"alert alert-info\">\n",
    "\n",
    "__Example 7:__ What is the result of ``[[1, 2, 3], [4, 5, 6]]`` + ``[10, 11, 12]``?"
   ]
  },
  {
   "cell_type": "code",
   "execution_count": null,
   "metadata": {},
   "outputs": [],
   "source": [
    "array_1 = np.array([[1, 2, 3], [4, 5, 6]])\n",
    "array_2 = np.array([10, 11, 12])\n",
    "print(array_1 + array_2)  # broadcasting"
   ]
  },
  {
   "cell_type": "markdown",
   "metadata": {},
   "source": [
    "<div class=\"alert alert-info\">\n",
    "\n",
    "__Example 8:__ What is the result of ``np.array([1, 2, 3], dtype=np.uint8) - 2``?"
   ]
  },
  {
   "cell_type": "code",
   "execution_count": null,
   "metadata": {},
   "outputs": [],
   "source": [
    "uint_array = np.array([1, 2, 3], dtype=np.uint8)\n",
    "print(uint_array - 2)  # 'u' stands for unsigned"
   ]
  },
  {
   "cell_type": "markdown",
   "metadata": {},
   "source": [
    "<div class=\"alert alert-info\">\n",
    "\n",
    "__Example 9:__ What is the result of ``x = np.ones((5, 1)); x @ x.T``?"
   ]
  },
  {
   "cell_type": "code",
   "execution_count": null,
   "metadata": {},
   "outputs": [],
   "source": [
    "x = np.ones((5, 1))\n",
    "print(x @ x.T)  # @ denotes matrix multiplication"
   ]
  },
  {
   "cell_type": "markdown",
   "metadata": {},
   "source": [
    "<div class=\"alert alert-info\">\n",
    "\n",
    "__Example 10:__ What is the result of ``x = np.array([1, 2, 3]); x[x < 3]``?"
   ]
  },
  {
   "cell_type": "code",
   "execution_count": null,
   "metadata": {},
   "outputs": [],
   "source": [
    "x = np.array([1, 2, 3, 4, 5])\n",
    "print(x[x < 3])"
   ]
  },
  {
   "cell_type": "markdown",
   "metadata": {},
   "source": [
    "# In scikit-image, images are NumPy arrays"
   ]
  },
  {
   "cell_type": "markdown",
   "metadata": {},
   "source": [
    "Images are represented in ``scikit-image`` using standard NumPy arrays. These arrays are easily shared with other libraries in the scientific Python ecosystem, such as ``matplotlib`` and ``scipy``.\n",
    "\n",
    "Let's see how to build a grayscale image as a 2D array. First, we import `numpy` and `matplotlib.pyplot`:"
   ]
  },
  {
   "cell_type": "code",
   "execution_count": null,
   "metadata": {},
   "outputs": [],
   "source": [
    "import numpy as np\n",
    "import matplotlib.pyplot as plt"
   ]
  },
  {
   "cell_type": "markdown",
   "metadata": {},
   "source": [
    "Now we use `random.random` to generate a random image with 500 rows and 500 columns. This function returns numbers in the interval `[0.0, 1.0)`:"
   ]
  },
  {
   "cell_type": "code",
   "execution_count": null,
   "metadata": {},
   "outputs": [],
   "source": [
    "random_image = np.random.random([500, 500])\n",
    "\n",
    "# generating the figure.\n",
    "plt.figure(figsize=(15, 10))\n",
    "plt.imshow(random_image, cmap='gray')\n",
    "plt.colorbar();"
   ]
  },
  {
   "cell_type": "markdown",
   "metadata": {},
   "source": [
    "The same holds for \"real-world\" images, which are also treated as NumPy arrays:"
   ]
  },
  {
   "cell_type": "code",
   "execution_count": null,
   "metadata": {},
   "outputs": [],
   "source": [
    "from skimage import data\n",
    "\n",
    "coins = data.coins()\n",
    "\n",
    "print(f'* \"coins\" type: {type(coins)}')\n",
    "print(f'* \"coins\" data type: {coins.dtype}')\n",
    "print(f'* \"coins\" shape: {coins.shape}')\n",
    "\n",
    "# generating the figure.\n",
    "plt.figure(figsize=(15, 10))\n",
    "plt.imshow(coins, cmap='gray');"
   ]
  },
  {
   "cell_type": "markdown",
   "metadata": {},
   "source": [
    "A color image is a 3D array, where the last dimension has size 3 and represents the red, green, and blue channels:"
   ]
  },
  {
   "cell_type": "code",
   "execution_count": null,
   "metadata": {},
   "outputs": [],
   "source": [
    "chelsea = data.chelsea()\n",
    "\n",
    "print(f'* \"chelsea\" shape: {chelsea.shape}')\n",
    "print(f'* \"chelsea\" min/max values: {chelsea.min(), chelsea.max()}')\n",
    "\n",
    "# generating the figure.\n",
    "plt.figure(figsize=(15, 10))\n",
    "plt.imshow(chelsea);"
   ]
  },
  {
   "cell_type": "markdown",
   "metadata": {},
   "source": [
    "Since these are just NumPy arrays, we can manipulate them directly. As an example, lets make a red square by using standard array slicing and manipulation:"
   ]
  },
  {
   "cell_type": "code",
   "execution_count": null,
   "metadata": {},
   "outputs": [],
   "source": [
    "chelsea[10:110, 10:110, :] = [255, 0, 0]  # [red, green, blue]\n",
    "\n",
    "# generating the figure.\n",
    "plt.figure(figsize=(15, 10))\n",
    "plt.imshow(chelsea);"
   ]
  },
  {
   "cell_type": "markdown",
   "metadata": {},
   "source": [
    "Images can also include transparent regions by adding a 4th dimension, called an *alpha layer*."
   ]
  },
  {
   "cell_type": "markdown",
   "metadata": {},
   "source": [
    "## Displaying images using matplotlib"
   ]
  },
  {
   "cell_type": "code",
   "execution_count": null,
   "metadata": {},
   "outputs": [],
   "source": [
    "from skimage import data\n",
    "\n",
    "chelsea = data.chelsea()\n",
    "rocket = data.rocket()"
   ]
  },
  {
   "cell_type": "code",
   "execution_count": null,
   "metadata": {},
   "outputs": [],
   "source": [
    "import matplotlib.pyplot as plt\n",
    "\n",
    "_, (win_left, win_right) = plt.subplots(nrows=1, ncols=2, figsize=(15, 10))\n",
    "\n",
    "win_left.imshow(chelsea)\n",
    "win_left.set_title('Chelsea, the cat', fontsize=18)\n",
    "win_left.scatter(x=[10, 20, 30, 40],\n",
    "                 y=[10, 20, 30, 40], color='white')\n",
    "win_left.axis('off')\n",
    "\n",
    "win_right.imshow(rocket)\n",
    "win_right.set_title('Rocket', fontsize=18)\n",
    "win_right.set_xlabel(r'Launching position $\\alpha=320$')\n",
    "\n",
    "win_right.vlines([202, 300], 0, rocket.shape[0], colors='magenta',\n",
    "                 linewidth=3, label='Side tower position')\n",
    "win_right.plot([168, 190, 200], [400, 200, 300], color='white',\n",
    "               linestyle='--', marker='o', label='Side angle')\n",
    "\n",
    "win_right.legend();"
   ]
  },
  {
   "cell_type": "markdown",
   "metadata": {},
   "source": [
    "For more on plotting, see the Matplotlib documentation [[2]](https://matplotlib.org/gallery/index.html#images-contours-and-fields) and the pyplot API [[3]](https://matplotlib.org/api/pyplot_summary.html)."
   ]
  },
  {
   "cell_type": "markdown",
   "metadata": {},
   "source": [
    "## Data types and image values\n",
    "\n",
    "In literature we have find different conventions for representing image values. Two of them are:\n",
    "\n",
    " * `0 - 255`, where  0 is black, 255 is white\n",
    " * `0 - 1`, where  0 is black, 1 is white\n",
    "\n",
    "``scikit-image`` supports both conventions; the choice is determined by the data type of the array.\n",
    "\n",
    "For instance, here we generate two valid images:"
   ]
  },
  {
   "cell_type": "code",
   "execution_count": null,
   "metadata": {},
   "outputs": [],
   "source": [
    "linear_float = np.linspace(0, 1, 2500).reshape((50, 50))\n",
    "linear_uint = np.linspace(0, 255, 2500).reshape((50, 50)).astype(np.uint8)\n",
    "\n",
    "print(f'* \"linear_float\": {linear_float.dtype}, {linear_float.min()}, {linear_float.max()}')\n",
    "print(f'* \"linear_uint\": {linear_uint.dtype}, {linear_uint.min()}, {linear_uint.max()}')\n",
    "\n",
    "fig, (win_left, win_right) = plt.subplots(1, 2, figsize=(15, 15))\n",
    "win_left.imshow(linear_float, cmap='gray')\n",
    "win_right.imshow(linear_uint, cmap='gray');"
   ]
  },
  {
   "cell_type": "markdown",
   "metadata": {},
   "source": [
    "The library is designed in such a way that any data-type is allowed as input,\n",
    "as long as the range is correct (0-1 for floating point images, 0-255 for unsigned bytes,\n",
    "0-65535 for unsigned 16-bit integers).\n",
    "\n",
    "You can convert images between different representations by using ``util.img_as_float``, ``util.img_as_ubyte``, etc.:"
   ]
  },
  {
   "cell_type": "code",
   "execution_count": null,
   "metadata": {},
   "outputs": [],
   "source": [
    "from skimage.util import img_as_float, img_as_ubyte\n",
    "\n",
    "image = data.chelsea()\n",
    "\n",
    "image_ubyte = img_as_ubyte(image)\n",
    "image_float = img_as_float(image)\n",
    "\n",
    "print(f'* \"image_ubyte\" type: {image_ubyte.dtype}, min: {image_ubyte.min()}, max: {image_ubyte.max()}')\n",
    "print(f'* \"image_float\" type: {image_float.dtype}, min: {image_float.min()}, max: {image_float.max()}')\n",
    "print()\n",
    "print(\"231/255 =\", 231/255)"
   ]
  },
  {
   "cell_type": "markdown",
   "metadata": {},
   "source": [
    "Your code would then typically look like this:\n",
    "\n",
    "```python\n",
    "def my_function(any_image):\n",
    "   float_image = img_as_float(any_image)\n",
    "   # Proceed, knowing image is in [0, 1]\n",
    "```\n",
    "\n",
    "We recommend using the floating point representation, given that\n",
    "``scikit-image`` mostly uses that format internally."
   ]
  },
  {
   "cell_type": "markdown",
   "metadata": {},
   "source": [
    "<div class=\"alert alert-success\">\n",
    "\n",
    "__Exercise: <font color='red'>(⏰ 5 min)</font>__ Define a function that takes as input an RGB image and a pair of coordinates (row, column), and returns a copy with a green letter H overlaid at those coordinates. The coordinates point to the top-left corner of the H.\n",
    "\n",
    "The arms and strut of the H should have a width of 3 pixels, and the H itself should have a height of 24 pixels and width of 20 pixels.\n",
    "\n",
    "Start with the following template:\n",
    "\n",
    "```\n",
    "def draw_H(image, coords, color=(0, 255, 0)):\n",
    "    \"\"\"\n",
    "    Draws the letter H within an input image.\n",
    "    \"\"\"\n",
    "    image_with_H = image.copy()\n",
    "    \n",
    "    ...\n",
    "    \n",
    "    return image_with_H\n",
    "```\n",
    "\n",
    "\n",
    "Then, test your function using:\n",
    "\n",
    "```\n",
    "from skimage import data\n",
    "import matplotlib.pyplot as plt\n",
    "\n",
    "chelsea = data.chelsea()\n",
    "chelsea_with_H = draw_H(chelsea, (50, -50))\n",
    "\n",
    "plt.figure(figsize=(15, 10))\n",
    "plt.imshow(chelsea_with_H);\n",
    "```"
   ]
  },
  {
   "cell_type": "code",
   "execution_count": null,
   "metadata": {},
   "outputs": [],
   "source": [
    "def draw_H(image, coords, color=(0, 255, 0)):\n",
    "    \"\"\"\n",
    "    Draws the letter H within an input image.\n",
    "    \"\"\"\n",
    "    image_with_H = image.copy()\n",
    "    \n",
    "    ...\n",
    "    \n",
    "    return image_with_H\n",
    "\n",
    "\n",
    "from skimage import data\n",
    "import matplotlib.pyplot as plt\n",
    "\n",
    "chelsea = data.chelsea()\n",
    "chelsea_with_H = draw_H(chelsea, (50, -50))\n",
    "\n",
    "plt.figure(figsize=(15, 10))\n",
    "plt.imshow(chelsea_with_H);"
   ]
  },
  {
   "cell_type": "markdown",
   "metadata": {},
   "source": [
    "<div class=\"alert alert-success\">\n",
    "\n",
    "__Exercise: <font color='red'>(⏰ 5 min)</font>__ Display the different color channels of `chelsea` along, each as a gray-scale image."
   ]
  },
  {
   "cell_type": "code",
   "execution_count": null,
   "metadata": {},
   "outputs": [],
   "source": [
    "chelsea = data.chelsea()\n",
    "\n",
    "# First, assign each color channel to a different variable.\n",
    "channel_r = ...\n",
    "channel_g = ...\n",
    "channel_b = ...\n",
    "\n",
    "# Then, display the image and the red, green and blue channels.\n",
    "_, (ax_r, ax_g, ax_b, ax_color) = plt.subplots(nrows=1, ncols=4, figsize=(16, 5))\n",
    "\n",
    "ax_r.imshow(channel_r, cmap='gray')\n",
    "ax_r.set_title('Red channel')\n",
    "ax_r.axis('off')\n",
    "\n",
    "ax_g.imshow(channel_g, cmap='gray')\n",
    "ax_g.set_title('Green channel')\n",
    "ax_g.axis('off')\n",
    "\n",
    "ax_b.imshow(channel_b, cmap='gray')\n",
    "ax_b.set_title('Blue channel')\n",
    "ax_b.axis('off')\n",
    "\n",
    "# Here we rebuild the color image stacking the R, G, and B layers again.\n",
    "ax_color.imshow(np.stack([channel_r, channel_g, channel_b], axis=2))\n",
    "ax_color.set_title('All channels');\n",
    "ax_color.axis('off')"
   ]
  },
  {
   "cell_type": "markdown",
   "metadata": {},
   "source": [
    "<div class=\"alert alert-success\">\n",
    "\n",
    "Now, take a look at the following R, G, and B channels.  How would their combination look? (Write some code to confirm your intuition.)"
   ]
  },
  {
   "cell_type": "code",
   "execution_count": null,
   "metadata": {},
   "outputs": [],
   "source": [
    "from skimage import draw\n",
    "\n",
    "red = np.zeros((300, 300))\n",
    "green = np.zeros((300, 300))\n",
    "blue = np.zeros((300, 300))\n",
    "\n",
    "r, c = draw.circle(100, 100, 100)\n",
    "red[r, c] = 1\n",
    "\n",
    "r, c = draw.circle(100, 200, 100)\n",
    "green[r, c] = 1\n",
    "\n",
    "r, c = draw.circle(200, 150, 100)\n",
    "blue[r, c] = 1\n",
    "\n",
    "f, axes = plt.subplots(1, 3)\n",
    "for (ax, channel) in zip(axes, [red, green, blue]):\n",
    "    ax.imshow(channel, cmap='gray')\n",
    "    ax.axis('off')"
   ]
  },
  {
   "cell_type": "code",
   "execution_count": null,
   "metadata": {},
   "outputs": [],
   "source": [
    "# Hint: np.stack([...], axis=2)"
   ]
  },
  {
   "cell_type": "markdown",
   "metadata": {},
   "source": [
    "<div class=\"alert alert-success\">\n",
    "\n",
    "__Exercise: <font color='red'>(⏰ 10 min)</font>__  The *relative luminance* of an image is the intensity of light coming from each point. Different colors contribute differently to the luminance: it's very hard to have a bright, pure blue, for example. So, starting from an RGB image, the luminance is given by:\n",
    "\n",
    "$$\n",
    "Y = 0.2126R + 0.7152G + 0.0722B\n",
    "$$\n",
    "\n",
    "Your tasks:\n",
    " * Use Python 3 matrix multiplication, `@`, to convert an RGB image to a grayscale luminance image according to the formula above.\n",
    "\n",
    "* Compare your results to that obtained with `skimage.color.rgb2gray`.\n",
    "\n",
    "* Change the coefficients to 1/3 (i.e., take the mean of the red, green, and blue channels, to see how that approach compares with `rgb2gray`)."
   ]
  },
  {
   "cell_type": "code",
   "execution_count": 5,
   "metadata": {},
   "outputs": [
    {
     "ename": "NameError",
     "evalue": "name 'plt' is not defined",
     "output_type": "error",
     "traceback": [
      "\u001b[0;31m---------------------------------------------------------------------------\u001b[0m",
      "\u001b[0;31mNameError\u001b[0m                                 Traceback (most recent call last)",
      "\u001b[0;32m<ipython-input-5-44c3923b1982>\u001b[0m in \u001b[0;36m<module>\u001b[0;34m\u001b[0m\n\u001b[1;32m      7\u001b[0m \u001b[0;34m\u001b[0m\u001b[0m\n\u001b[1;32m      8\u001b[0m \u001b[0;31m# Displaying the results.\u001b[0m\u001b[0;34m\u001b[0m\u001b[0;34m\u001b[0m\u001b[0;34m\u001b[0m\u001b[0m\n\u001b[0;32m----> 9\u001b[0;31m \u001b[0m_\u001b[0m\u001b[0;34m,\u001b[0m \u001b[0;34m(\u001b[0m\u001b[0mwin_left\u001b[0m\u001b[0;34m,\u001b[0m \u001b[0mwin_right\u001b[0m\u001b[0;34m)\u001b[0m \u001b[0;34m=\u001b[0m \u001b[0mplt\u001b[0m\u001b[0;34m.\u001b[0m\u001b[0msubplots\u001b[0m\u001b[0;34m(\u001b[0m\u001b[0;36m1\u001b[0m\u001b[0;34m,\u001b[0m \u001b[0;36m2\u001b[0m\u001b[0;34m,\u001b[0m \u001b[0mfigsize\u001b[0m\u001b[0;34m=\u001b[0m\u001b[0;34m(\u001b[0m\u001b[0;36m10\u001b[0m\u001b[0;34m,\u001b[0m \u001b[0;36m6\u001b[0m\u001b[0;34m)\u001b[0m\u001b[0;34m)\u001b[0m\u001b[0;34m\u001b[0m\u001b[0;34m\u001b[0m\u001b[0m\n\u001b[0m\u001b[1;32m     10\u001b[0m \u001b[0;34m\u001b[0m\u001b[0m\n\u001b[1;32m     11\u001b[0m \u001b[0mwin_left\u001b[0m\u001b[0;34m.\u001b[0m\u001b[0mimshow\u001b[0m\u001b[0;34m(\u001b[0m\u001b[0mimage_gray\u001b[0m\u001b[0;34m,\u001b[0m \u001b[0mcmap\u001b[0m\u001b[0;34m=\u001b[0m\u001b[0;34m'gray'\u001b[0m\u001b[0;34m)\u001b[0m\u001b[0;34m\u001b[0m\u001b[0;34m\u001b[0m\u001b[0m\n",
      "\u001b[0;31mNameError\u001b[0m: name 'plt' is not defined"
     ]
    }
   ],
   "source": [
    "from skimage import color, data, img_as_float\n",
    "\n",
    "image = img_as_float(data.chelsea())\n",
    "\n",
    "image_gray = color.rgb2gray(image)\n",
    "image_gray_equation = ...\n",
    "\n",
    "# Displaying the results.\n",
    "_, (win_left, win_right) = plt.subplots(1, 2, figsize=(10, 6))\n",
    "\n",
    "win_left.imshow(image_gray, cmap='gray')\n",
    "win_left.set_title('skimage.color.rgb2gray')\n",
    "\n",
    "win_right.imshow(image_gray_equation, cmap='gray')\n",
    "win_right.set_title('my rgb2gray')"
   ]
  },
  {
   "cell_type": "markdown",
   "metadata": {},
   "source": [
    "## Going beyond\n",
    "\n",
    "* Take a look at scikit-image's gallery and API documentation at https://scikit-image.org.\n",
    "* Check the documentation for the underlying stack:\n",
    "    * [NumPy](https://numpy.org/doc/);\n",
    "    * [SciPy](https://docs.scipy.org/doc/) (especially [`scipy.ndimage`](https://docs.scipy.org/doc/scipy/reference/tutorial/ndimage.html));\n",
    "    * [Cython](https://cython.readthedocs.io/en/latest/)."
   ]
  },
  {
   "cell_type": "code",
   "execution_count": null,
   "metadata": {},
   "outputs": [],
   "source": []
  }
 ],
 "metadata": {
  "kernelspec": {
   "display_name": "Python 3",
   "language": "python",
   "name": "python3"
  },
  "language_info": {
   "codemirror_mode": {
    "name": "ipython",
    "version": 3
   },
   "file_extension": ".py",
   "mimetype": "text/x-python",
   "name": "python",
   "nbconvert_exporter": "python",
   "pygments_lexer": "ipython3",
   "version": "3.7.3"
  }
 },
 "nbformat": 4,
 "nbformat_minor": 1
}
