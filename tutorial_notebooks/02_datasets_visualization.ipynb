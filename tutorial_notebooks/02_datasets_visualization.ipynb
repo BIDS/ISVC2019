{
 "cells": [
  {
   "cell_type": "markdown",
   "metadata": {},
   "source": [
    "# Visualization in python\n",
    "There are several [visualization](https://en.wikipedia.org/wiki/Edge_detection) tools for 3D imagery have been developed with/for Python, for example\n",
    "Matplotlib (Hunter, 2007), Mayavi (Ramachandran & Varoquaux, 2011), the [ipyvolume](https://github.com/maartenbreddels/ipyvolume/), the yt Project\n",
    "(Turk et al., 2010), and the Visualization Toolkit (VTK) (Schroeder, Lorensen, & Martin, 2006). \n",
    "\n",
    "The 3 main challenges of available tools are: \n",
    "a. working with large volumes: image sizes\n",
    "b. complexity of APIs: how many lines for simple rendering\n",
    "c. compatibility to ipynb: mostly crash\n",
    "\n",
    "VTK is a powerful scientific visualization library with Python bindings, and speedy C++ backend. The library [itkwidgets](https://github.com/InsightSoftwareConsortium/itkwidgets) provides interactive ipywidgets to visualize images in 2D and 3D \n",
    "\n",
    "\n",
    "\n"
   ]
  },
  {
   "cell_type": "code",
   "execution_count": 7,
   "metadata": {},
   "outputs": [],
   "source": [
    "import numpy as np\n",
    "import matplotlib.pyplot as plt\n",
    "\n",
    "#from ipywidgets import interact\n",
    "\n",
    "#from scipy import ndimage as ndi\n",
    "\n",
    "from skimage import exposure, io, measure\n",
    "                   # morphology, restoration, segmentation, transform,\n",
    "                    #util)\n",
    "\n",
    "%matplotlib inline"
   ]
  },
  {
   "cell_type": "markdown",
   "metadata": {},
   "source": [
    "Let's read the original image and the labeled result from previous lesson:"
   ]
  },
  {
   "cell_type": "code",
   "execution_count": 8,
   "metadata": {},
   "outputs": [],
   "source": [
    "input_filename=\"images/cells.tif\"\n",
    "orig = io.imread(input_filename)\n",
    "equalized = exposure.equalize_hist(orig)"
   ]
  },
  {
   "cell_type": "code",
   "execution_count": 9,
   "metadata": {},
   "outputs": [],
   "source": [
    "from skimage.external import tifffile\n",
    "inputfile = 'images/cells_interior_labels.tiff'\n",
    "relabeled = tifffile.imread(inputfile)"
   ]
  },
  {
   "cell_type": "code",
   "execution_count": 10,
   "metadata": {},
   "outputs": [
    {
     "name": "stdout",
     "output_type": "stream",
     "text": [
      "* Microscope original spacing: [0.29  0.065 0.065]\n",
      "* Microscope after rescaling images: [0.29 0.26 0.26]\n",
      "* Microscope normalized spacing: [1.11538462 1.         1.        ]\n"
     ]
    }
   ],
   "source": [
    "# The microscope reports the following spacing:\n",
    "original_spacing = np.array([0.2900000, 0.0650000, 0.0650000])\n",
    "print(f'* Microscope original spacing: {original_spacing}')\n",
    "\n",
    "# We downsampled each slice 4x to make the data smaller\n",
    "rescaled_spacing = original_spacing * [1, 4, 4]\n",
    "print(f'* Microscope after rescaling images: {rescaled_spacing}')\n",
    "\n",
    "# Normalize the spacing so that pixels are a distance of 1 apart\n",
    "spacing = rescaled_spacing / rescaled_spacing[2]\n",
    "print(f'* Microscope normalized spacing: {spacing}')"
   ]
  },
  {
   "cell_type": "code",
   "execution_count": 11,
   "metadata": {},
   "outputs": [],
   "source": [
    "regionprops = measure.regionprops(relabeled.astype('int'))"
   ]
  },
  {
   "cell_type": "code",
   "execution_count": 14,
   "metadata": {
    "collapsed": true
   },
   "outputs": [],
   "source": [
    "def getLargestCC(segments):\n",
    "        '''Return a mask corresponding to the largest object'''\n",
    "        labels = measure.label(segments)\n",
    "        largestCC = labels == np.argmax(np.bincount(labels.flat, weights=segments.flat))\n",
    "        return largestCC"
   ]
  },
  {
   "cell_type": "code",
   "execution_count": 16,
   "metadata": {},
   "outputs": [
    {
     "name": "stdout",
     "output_type": "stream",
     "text": [
      "(60, 256, 256)\n"
     ]
    }
   ],
   "source": [
    "a=getLargestCC(relabeled)\n",
    "print(a.shape)"
   ]
  },
  {
   "cell_type": "markdown",
   "metadata": {},
   "source": [
    "## Surface of 3D objects\n",
    "`skimage.measure.regionprops` **==>** `skimage.measure.marching_cubes` **==>** `skimage.measure.mesh_surface_area`"
   ]
  },
  {
   "cell_type": "markdown",
   "metadata": {},
   "source": [
    "Perimeter measurements are not computed for 3D objects. The 3D extension of perimeter is surface area. We can measure the surface of an object by generating a surface mesh with \n",
    "- `skimage.measure.marching_cubes`returns 2 arrays: spatial coordinates for V unique mesh vertices and F faces that define triangular faces via referencing vertex indices from V. This algorithm specifically outputs triangles, so each face has exactly three indices."
   ]
  },
  {
   "cell_type": "code",
   "execution_count": null,
   "metadata": {},
   "outputs": [],
   "source": [
    "selected_cell = 3\n",
    "\n",
    "# skimage.measure.marching_cubes expects ordering (row, col, pln)\n",
    "volume = (relabeled == regionprops[selected_cell].label).transpose(1, 2, 0)\n",
    "\n",
    "verts_px, faces_px, _, _ = measure.marching_cubes_lewiner(volume, level=0, spacing=(1.0, 1.0, 1.0))"
   ]
  },
  {
   "cell_type": "markdown",
   "metadata": {},
   "source": [
    "Now we will compute the surface area of the mesh with `skimage.measure.mesh_surface_area`."
   ]
  },
  {
   "cell_type": "code",
   "execution_count": null,
   "metadata": {},
   "outputs": [],
   "source": [
    "surface_area_pixels = measure.mesh_surface_area(verts_px, faces_px)\n",
    "print(\"Surface area (total pixels): {:0.2f}\".format(surface_area_pixels))"
   ]
  },
  {
   "cell_type": "markdown",
   "metadata": {},
   "source": [
    "Remember that the cell data comes from an anisotropic acquisition, then we need to customize spacing:"
   ]
  },
  {
   "cell_type": "code",
   "execution_count": null,
   "metadata": {},
   "outputs": [],
   "source": [
    "verts, faces, _, _ = measure.marching_cubes_lewiner(volume, level=0, spacing=tuple(spacing))\n",
    "surface_area_actual = measure.mesh_surface_area(verts, faces)\n",
    "\n",
    "print(\"Surface area (total pixels): {:0.2f}\".format(surface_area_pixels))\n",
    "print(\"Surface area (actual): {:0.2f}\".format(surface_area_actual))"
   ]
  },
  {
   "cell_type": "code",
   "execution_count": null,
   "metadata": {},
   "outputs": [],
   "source": [
    "plt.plot(verts[:,0],verts[:,1],'b.')"
   ]
  },
  {
   "cell_type": "markdown",
   "metadata": {
    "collapsed": true
   },
   "source": [
    "# MPL_toolkit:\n",
    "It ships with Matplotlib and thus may be a lighter weight solution for some use cases. Provide basic 3D plotting of: \n",
    "- scatter, \n",
    "- surf, \n",
    "- line, \n",
    "- mesh\n",
    "\n",
    "Not the fastest or most feature complete 3D library out there. Check out the mplot3d [tutorial](https://matplotlib.org/tutorials/toolkits/mplot3d.html#sphx-glr-tutorials-toolkits-mplot3d-py) for more information. mplot3d supplies an axes object that can create a 2D projection of a 3D scene."
   ]
  },
  {
   "cell_type": "code",
   "execution_count": null,
   "metadata": {},
   "outputs": [],
   "source": [
    "from mpl_toolkits.mplot3d import Axes3D\n",
    "fig = plt.figure()\n",
    "#method for creating a 3D axes object\n",
    "ax = fig.gca(projection='3d')\n",
    "\n",
    "ax.scatter(verts[:,0],verts[:,1],verts[:,2])\n",
    "\n",
    "plt.show()\n"
   ]
  },
  {
   "cell_type": "markdown",
   "metadata": {},
   "source": [
    "## Exercise 1:\n",
    "a) Select a different cell and calculate the actual surface area\n",
    "\n",
    "b) explore parameters to improve the scatter plot, e.g., label and colors\n",
    "\n",
    "c) find the largest connected component"
   ]
  },
  {
   "cell_type": "code",
   "execution_count": null,
   "metadata": {},
   "outputs": [],
   "source": [
    "%load solution02_01_a.py"
   ]
  },
  {
   "cell_type": "code",
   "execution_count": null,
   "metadata": {
    "collapsed": true
   },
   "outputs": [],
   "source": [
    "%load solution02_01_b.py"
   ]
  },
  {
   "cell_type": "code",
   "execution_count": null,
   "metadata": {
    "collapsed": true
   },
   "outputs": [],
   "source": [
    "def getLargestCC(segments):\n",
    "        '''Return a mask corresponding to the largest object'''\n",
    "        labels = measure.label(segments)\n",
    "        largestCC = labels == np.argmax(np.bincount(labels.flat, weights=segments.flat))\n",
    "        return largestCC"
   ]
  },
  {
   "cell_type": "markdown",
   "metadata": {},
   "source": [
    "Is it possible to create a better projection that that? Yes, the volume (polyhedron) can be visualized using the mesh, a set of polygons determined by the vertexes and faces."
   ]
  },
  {
   "cell_type": "code",
   "execution_count": null,
   "metadata": {},
   "outputs": [],
   "source": [
    "from mpl_toolkits.mplot3d.art3d import Poly3DCollection\n",
    "\n",
    "fig = plt.figure(figsize=(10, 10))\n",
    "\n",
    "#method for creating a 3D axes object\n",
    "ax = fig.add_subplot(111, projection='3d')\n",
    "\n",
    "mesh = Poly3DCollection(verts_px[faces_px])\n",
    "ax.add_collection3d(mesh)\n",
    "\n",
    "#retrieve spatial coord of selected cell\n",
    "min_pln, min_row, min_col, max_pln, max_row, max_col = regionprops[selected_cell].bbox\n",
    "\n",
    "#requires setting the region of interest\n",
    "ax.set_xlim(min_row, max_row)\n",
    "ax.set_ylim(min_col, max_col)\n",
    "ax.set_zlim(min_pln, max_pln)\n",
    "plt.show()"
   ]
  },
  {
   "cell_type": "markdown",
   "metadata": {},
   "source": [
    "The command `mesh.set_edgecolor('black')` makes edges visible"
   ]
  },
  {
   "cell_type": "code",
   "execution_count": null,
   "metadata": {},
   "outputs": [],
   "source": [
    "fig = plt.figure(figsize=(10, 10))\n",
    "ax = fig.add_subplot(111, projection='3d')\n",
    "\n",
    "mesh = Poly3DCollection(verts_px[faces_px])\n",
    "mesh.set_edgecolor('black')\n",
    "ax.add_collection3d(mesh)\n",
    "\n",
    "#retrieve spatial coord of selected cell\n",
    "min_pln, min_row, min_col, max_pln, max_row, max_col = regionprops[selected_cell].bbox\n",
    "\n",
    "#requires setting the region of interest\n",
    "ax.set_xlim(min_row, max_row)\n",
    "ax.set_ylim(min_col, max_col)\n",
    "ax.set_zlim(min_pln, max_pln)\n",
    "\n",
    "#layout improvements\n",
    "ax.set_xlabel('col')\n",
    "ax.set_ylabel('row')\n",
    "ax.set_zlabel('pln')\n",
    "\n",
    "plt.tight_layout()\n",
    "plt.show()"
   ]
  },
  {
   "cell_type": "markdown",
   "metadata": {},
   "source": [
    "# ITK and ITKwidgets in itkwidgets\n",
    "- def: "
   ]
  },
  {
   "cell_type": "code",
   "execution_count": null,
   "metadata": {
    "collapsed": true
   },
   "outputs": [],
   "source": [
    "#Dani TODO: discuss package \n",
    "#https://itkpythonpackage.readthedocs.io/en/latest/Quick_start_guide.html\n",
    "#https://itk.org/ITKExamples/src/index.html\n",
    "\n",
    "#https://github.com/InsightSoftwareConsortium/itkwidgets"
   ]
  },
  {
   "cell_type": "code",
   "execution_count": null,
   "metadata": {},
   "outputs": [],
   "source": [
    "import itk\n",
    "from itkwidgets import view"
   ]
  },
  {
   "cell_type": "code",
   "execution_count": null,
   "metadata": {},
   "outputs": [],
   "source": [
    "import itk\n",
    "\n",
    "image = itk.imread(input_filename)\n",
    "median = itk.MedianImageFilter.New(image, Radius = 2)\n",
    "#itk.imwrite(median, output_filename)"
   ]
  },
  {
   "cell_type": "code",
   "execution_count": null,
   "metadata": {},
   "outputs": [],
   "source": [
    "plt.imshow(median[20],cmap='inferno')"
   ]
  },
  {
   "cell_type": "code",
   "execution_count": null,
   "metadata": {},
   "outputs": [],
   "source": [
    "print(f\"* Data shape: {relabeled.shape}\")\n",
    "print(f\"* Data type:  {relabeled.dtype}\")\n",
    "print(f\"* Data range: ({relabeled.min()}, {relabeled.max()})\")"
   ]
  },
  {
   "cell_type": "code",
   "execution_count": null,
   "metadata": {},
   "outputs": [],
   "source": [
    "#Reformat the numpy array into an itk matrix\n",
    "image = itk.GetImageFromArray(relabeled.astype(np.int16))\n",
    "view(image, slicing_planes=True)\n",
    "\n",
    "#showing full stack"
   ]
  },
  {
   "cell_type": "code",
   "execution_count": null,
   "metadata": {},
   "outputs": [],
   "source": [
    "image2 = itk.imread('images/cells_interior_labels.tiff') #,itk.ctype('float')) #add this param if needed\n",
    "viewer = view(image2,slicing_planes=True)\n"
   ]
  },
  {
   "cell_type": "code",
   "execution_count": null,
   "metadata": {},
   "outputs": [],
   "source": [
    "import ipywebrtc as webrtc\n",
    "recorder = webrtc.VideoRecorder(stream=viewer, filename='widget_video.webm', autosave=True)\n",
    "recorder"
   ]
  },
  {
   "cell_type": "markdown",
   "metadata": {},
   "source": [
    "# Exercise 3. \n",
    "Read the file at images/cells_interior_labels.tiff using skimage, then convert the file to visualize with itkwidgets"
   ]
  },
  {
   "cell_type": "code",
   "execution_count": null,
   "metadata": {
    "collapsed": true
   },
   "outputs": [],
   "source": []
  }
 ],
 "metadata": {
  "kernelspec": {
   "display_name": "Python 3",
   "language": "python",
   "name": "python3"
  },
  "language_info": {
   "codemirror_mode": {
    "name": "ipython",
    "version": 3
   },
   "file_extension": ".py",
   "mimetype": "text/x-python",
   "name": "python",
   "nbconvert_exporter": "python",
   "pygments_lexer": "ipython3",
   "version": "3.6.9"
  }
 },
 "nbformat": 4,
 "nbformat_minor": 2
}
