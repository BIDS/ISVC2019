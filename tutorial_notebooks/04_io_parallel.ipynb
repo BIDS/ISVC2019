{
 "cells": [
  {
   "cell_type": "code",
   "execution_count": null,
   "metadata": {
    "collapsed": true
   },
   "outputs": [],
   "source": [
    "# numba and joblib"
   ]
  },
  {
   "cell_type": "code",
   "execution_count": 151,
   "metadata": {},
   "outputs": [],
   "source": [
    "import numpy as np"
   ]
  },
  {
   "cell_type": "code",
   "execution_count": null,
   "metadata": {},
   "outputs": [],
   "source": []
  },
  {
   "cell_type": "code",
   "execution_count": null,
   "metadata": {},
   "outputs": [],
   "source": []
  },
  {
   "cell_type": "code",
   "execution_count": null,
   "metadata": {},
   "outputs": [],
   "source": []
  },
  {
   "cell_type": "code",
   "execution_count": null,
   "metadata": {},
   "outputs": [],
   "source": []
  },
  {
   "cell_type": "code",
   "execution_count": null,
   "metadata": {},
   "outputs": [],
   "source": []
  },
  {
   "cell_type": "markdown",
   "metadata": {},
   "source": [
    "## Using numba to \"compile\" code\n",
    "\n",
    "Numba is a just-in-time (or JIT) compiler, which translates a part of Python and Numpy into faster code.\n",
    "\n",
    "The most basic way to use Numba is through the `@jit` *decorator*:"
   ]
  },
  {
   "cell_type": "code",
   "execution_count": 1,
   "metadata": {},
   "outputs": [],
   "source": [
    "from numba import jit"
   ]
  },
  {
   "cell_type": "markdown",
   "metadata": {},
   "source": [
    "This way, Numba decides what it should optimize in your functions. To show how fast this decorator is, let's define two versions of a dummy Fibonacci function. One `fibonacci_no_numba`, does not use Numba:"
   ]
  },
  {
   "cell_type": "code",
   "execution_count": 171,
   "metadata": {},
   "outputs": [],
   "source": [
    "def fibonacci_no_numba(elem=10):\n",
    "    \"\"\"\n",
    "    \"\"\"\n",
    "    fibonacci = np.zeros(elem)\n",
    "    aux_1, aux_2 = 1, 1\n",
    "    fibonacci[0: 2] = aux_1, aux_2\n",
    "\n",
    "    for idx in range(2, elem):\n",
    "        fibo_current = aux_1 + aux_2\n",
    "        fibonacci[idx] = fibo_current\n",
    "        aux_1 = aux_2\n",
    "        aux_2 = fibo_current\n",
    "    return fibonacci"
   ]
  },
  {
   "cell_type": "markdown",
   "metadata": {},
   "source": [
    "The other, `fibonacci_numba`, uses the decorator `@jit` to optimize the function."
   ]
  },
  {
   "cell_type": "code",
   "execution_count": 172,
   "metadata": {},
   "outputs": [],
   "source": [
    "@jit\n",
    "def fibonacci_numba(elem=10):\n",
    "    \"\"\"\n",
    "    \"\"\"\n",
    "    fibonacci = np.zeros(elem)\n",
    "    aux_1, aux_2 = 1, 1\n",
    "    fibonacci[0: 2] = aux_1, aux_2\n",
    "\n",
    "    for idx in range(2, elem):\n",
    "        fibo_current = aux_1 + aux_2\n",
    "        fibonacci[idx] = fibo_current\n",
    "        aux_1 = aux_2\n",
    "        aux_2 = fibo_current\n",
    "    return fibonacci"
   ]
  },
  {
   "cell_type": "markdown",
   "metadata": {},
   "source": [
    "Check that the functions are equal, and produce the same output:"
   ]
  },
  {
   "cell_type": "code",
   "execution_count": 173,
   "metadata": {},
   "outputs": [
    {
     "name": "stdout",
     "output_type": "stream",
     "text": [
      "* The 9 first elements of the Fibonacci sequence, using fibonacci_no_numba: [ 1.  1.  2.  3.  5.  8. 13. 21. 34.]\n",
      "* The 9 first elements of the Fibonacci sequence, using fibonacci_numba: [ 1.  1.  2.  3.  5.  8. 13. 21. 34.]\n"
     ]
    }
   ],
   "source": [
    "elem = 9\n",
    "print(f'* The {elem} first elements of the Fibonacci sequence, using fibonacci_no_numba: {fibonacci_no_numba(elem=elem)}')\n",
    "print(f'* The {elem} first elements of the Fibonacci sequence, using fibonacci_numba: {fibonacci_numba(elem=elem)}')"
   ]
  },
  {
   "cell_type": "markdown",
   "metadata": {},
   "source": [
    "Now we use the Jupyter Notebook magic `%timeit` to calculate how fast these functions return a Fibonacci sequence with 1000 elements:"
   ]
  },
  {
   "cell_type": "code",
   "execution_count": 174,
   "metadata": {},
   "outputs": [
    {
     "name": "stdout",
     "output_type": "stream",
     "text": [
      "1.75 µs ± 161 ns per loop (mean ± std. dev. of 7 runs, 1000000 loops each)\n"
     ]
    }
   ],
   "source": [
    "%timeit fibonacci_numba(elem=1000)"
   ]
  },
  {
   "cell_type": "code",
   "execution_count": 175,
   "metadata": {},
   "outputs": [
    {
     "name": "stdout",
     "output_type": "stream",
     "text": [
      "259 µs ± 29.1 µs per loop (mean ± std. dev. of 7 runs, 1000 loops each)\n"
     ]
    }
   ],
   "source": [
    "%timeit fibonacci_no_numba(elem=1000)"
   ]
  },
  {
   "cell_type": "markdown",
   "metadata": {},
   "source": [
    "Now, let's use its speed to ease our operations with images."
   ]
  }
 ],
 "metadata": {
  "kernelspec": {
   "display_name": "Python 3",
   "language": "python",
   "name": "python3"
  },
  "language_info": {
   "codemirror_mode": {
    "name": "ipython",
    "version": 3
   },
   "file_extension": ".py",
   "mimetype": "text/x-python",
   "name": "python",
   "nbconvert_exporter": "python",
   "pygments_lexer": "ipython3",
   "version": "3.7.3"
  }
 },
 "nbformat": 4,
 "nbformat_minor": 2
}
